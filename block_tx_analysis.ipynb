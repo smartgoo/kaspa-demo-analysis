{
 "cells": [
  {
   "cell_type": "code",
   "execution_count": 1,
   "id": "8180a1c5-0cd9-45f8-a360-b03f4df52e93",
   "metadata": {},
   "outputs": [],
   "source": [
    "from collections import defaultdict\n",
    "import glob\n",
    "import json\n",
    "import os\n",
    "import statistics"
   ]
  },
  {
   "cell_type": "code",
   "execution_count": 2,
   "id": "a20ff9a6-f77d-41e0-b969-a578da4401bc",
   "metadata": {},
   "outputs": [],
   "source": [
    "SPENT_OUTPUTS=True"
   ]
  },
  {
   "cell_type": "code",
   "execution_count": null,
   "id": "624edf19-7a1f-42ef-9979-205e7f0d0fa6",
   "metadata": {},
   "outputs": [],
   "source": []
  },
  {
   "cell_type": "markdown",
   "id": "76152233-4dcf-44b0-bc62-b134f6e9bb71",
   "metadata": {},
   "source": [
    "## Load data, prep for analysis"
   ]
  },
  {
   "cell_type": "code",
   "execution_count": 3,
   "id": "0dfe3efe-ed24-4e87-b183-7b9df2cbf902",
   "metadata": {},
   "outputs": [],
   "source": [
    "# Load from included data files\n",
    "blocks = {}\n",
    "for file_path in glob.glob('./data/blocks-*.json'):\n",
    "    with open(file_path, 'r') as file:\n",
    "        data = json.load(file)['blocks']\n",
    "        blocks.update(data)\n",
    "\n",
    "with open('./data/spent-outputs.json', 'r') as f:\n",
    "    spent_outputs = json.load(f)['outputs']"
   ]
  },
  {
   "cell_type": "code",
   "execution_count": 4,
   "id": "cb29f644-5b9a-4d0c-a7fb-e5815d4fe439",
   "metadata": {},
   "outputs": [
    {
     "name": "stdout",
     "output_type": "stream",
     "text": [
      "188885\n",
      "446235\n"
     ]
    }
   ],
   "source": [
    "print(len(blocks))\n",
    "print(len(spent_outputs))"
   ]
  },
  {
   "cell_type": "code",
   "execution_count": 5,
   "id": "5a8b55b1-d342-44ea-b472-8bd54dbe1359",
   "metadata": {},
   "outputs": [],
   "source": [
    "chainblocks = set()\n",
    "non_chainblocks = set()\n",
    "merged_blues = set()\n",
    "merged_reds = set()\n",
    "\n",
    "blocks_per_daa = defaultdict(int)\n",
    "block_timestamps = []\n",
    "chainblock_timestamps = []\n",
    "\n",
    "coinbase_txs = 0\n",
    "coinbase_outputs = []\n",
    "\n",
    "accepted_txs = set() # regular, non-coinbase\n",
    "outputs_spent = [] # regular, non-coinbase. not that coinbase can spend utxos anyways! \n",
    "outputs_created = [] # regular, non-coinbase\n",
    "fees = []\n",
    "\n",
    "sending_addrs = set()\n",
    "receiving_addrs = set()"
   ]
  },
  {
   "cell_type": "code",
   "execution_count": 6,
   "id": "6382c00c-7936-4195-9dd5-c7ffbb07fe75",
   "metadata": {},
   "outputs": [],
   "source": [
    "# Pre-process data\n",
    "for hash, block in blocks.items():\n",
    "    blocks_per_daa[block['header']['daaScore']] += 1\n",
    "    block_timestamps.append(int(block['header']['timestamp']))\n",
    "\n",
    "    # Chainblock vs. non-chainblock\n",
    "    if block['verboseData'].get('isChainBlock'):\n",
    "        chainblocks.add(hash)\n",
    "        chainblock_timestamps.append(int(block['header']['timestamp']))\n",
    "    else:\n",
    "        non_chainblocks.add(hash)\n",
    "\n",
    "    # Blue mergeset \n",
    "    for bh in block['verboseData'].get('mergeSetBluesHashes', []):\n",
    "        merged_blues.add(bh)\n",
    "\n",
    "    # Red mergeset\n",
    "    for bh in block['verboseData'].get('mergeSetRedsHashes', []):\n",
    "        merged_reds.add(bh)\n",
    "\n",
    "    # Process transactions\n",
    "    for tx in block['transactions']:\n",
    "        tx_id = tx['verboseData']['transactionId']\n",
    "\n",
    "        # Skip if tx is not accepted\n",
    "        if not tx.get('accepted'):\n",
    "            continue\n",
    "\n",
    "        # Skip if tx has already been processed\n",
    "        if tx_id in accepted_txs:\n",
    "            continue\n",
    "        accepted_txs.add(tx_id)\n",
    "\n",
    "        # Process coinbase transactions\n",
    "        if tx['subnetworkId'] == '0100000000000000000000000000000000000000':\n",
    "            coinbase_txs += 1\n",
    "            for output in tx['outputs']:\n",
    "                coinbase_outputs.append(int(output['amount']))\n",
    "            continue\n",
    "\n",
    "        # Process \"regular\" transactions\n",
    "        total_output_amount = 0\n",
    "        for output in tx['outputs']:\n",
    "            outputs_created.append(int(output['amount']))\n",
    "            total_output_amount += int(output['amount'])\n",
    "\n",
    "            receiving_addrs.add(output['verboseData']['scriptPublicKeyAddress'])\n",
    "            \n",
    "        if SPENT_OUTPUTS:\n",
    "            total_input_amount = 0\n",
    "            for input in tx['inputs']:\n",
    "                prev_outpoint_tx_id = input['previousOutpoint']['transactionId']\n",
    "                prev_outpoint_index = input['previousOutpoint'].get('index', 0)\n",
    "    \n",
    "                input_amount = spent_outputs[f\"{prev_outpoint_tx_id}-{prev_outpoint_index}\"]['amount']        \n",
    "                outputs_spent.append(input_amount)\n",
    "                total_input_amount += input_amount\n",
    "    \n",
    "                sending_addr = spent_outputs[f\"{prev_outpoint_tx_id}-{prev_outpoint_index}\"]['address']\n",
    "                sending_addrs.add(sending_addr)\n",
    "\n",
    "            tx_fee = total_input_amount - total_output_amount\n",
    "            fees.append(tx_fee)"
   ]
  },
  {
   "cell_type": "code",
   "execution_count": null,
   "id": "cf11789b-eee3-4fbc-9bd6-9f6f8bd14884",
   "metadata": {},
   "outputs": [],
   "source": []
  },
  {
   "cell_type": "markdown",
   "id": "29bfc7bd-1bc1-4b4d-ae60-96d3670c91ac",
   "metadata": {},
   "source": [
    "## Results"
   ]
  },
  {
   "cell_type": "code",
   "execution_count": 7,
   "id": "a2b92b45-a614-461f-bd96-d077f48255b5",
   "metadata": {},
   "outputs": [],
   "source": [
    "def list_stats(title, l, ptotal=True, to_kas=True):\n",
    "    l.sort()\n",
    "    \n",
    "    total = sum(l)\n",
    "    \n",
    "    mean = sum(l) / len(l)\n",
    "\n",
    "    median = statistics.median(l)\n",
    "    \n",
    "    minimum = min(l)\n",
    "    maximum = max(l)\n",
    "\n",
    "    f = 100_000_000 if to_kas else 1\n",
    "    \n",
    "    print(title)\n",
    "    if ptotal:\n",
    "        print(f'Total: {total / f:,}')\n",
    "    print(f'Mean: {mean / f:,}')\n",
    "    print(f'Median: {median / f:,}')\n",
    "    print(f'Min: {minimum / f:,}')\n",
    "    print(f'Max: {maximum / f:,}')"
   ]
  },
  {
   "cell_type": "code",
   "execution_count": 8,
   "id": "2d3abe63-996b-43ed-abee-671c883422e4",
   "metadata": {},
   "outputs": [
    {
     "name": "stdout",
     "output_type": "stream",
     "text": [
      "--- COUNTS\n",
      "Chainblocks: 100,409\n",
      "Non-chainblocks: 88,476\n",
      "Merged blues: 188,519\n",
      "Merged reds: 415\n",
      "\n",
      "Coinbase transactions: 100,407\n",
      "Coinbase outputs: 188,796\n",
      "\n",
      "Accepted transactions (not incl. coinbase): 226,725\n",
      "Outputs spent: 446,230\n",
      "Outputs created: 242,425\n",
      "\n",
      "Fees: 126,318 (qty of fees should = accepted txs - coinbase txs)\n",
      "\n",
      "Unique sending addresses: 32,268\n",
      "Unique receiving addresses: 71,957\n"
     ]
    }
   ],
   "source": [
    "print('--- COUNTS')\n",
    "print(f'Chainblocks: {len(chainblocks):,}')\n",
    "print(f'Non-chainblocks: {len(non_chainblocks):,}')\n",
    "print(f'Merged blues: {len(merged_blues):,}')\n",
    "print(f'Merged reds: {len(merged_reds):,}\\n')\n",
    "print(f'Coinbase transactions: {coinbase_txs:,}')\n",
    "print(f'Coinbase outputs: {len(coinbase_outputs):,}\\n')\n",
    "print(f'Accepted transactions (not incl. coinbase): {len(accepted_txs):,}')\n",
    "print(f'Outputs spent: {len(outputs_spent):,}')\n",
    "print(f'Outputs created: {len(outputs_created):,}\\n')\n",
    "print(f'Fees: {len(fees):,} (qty of fees should = accepted txs - coinbase txs)\\n')\n",
    "print(f'Unique sending addresses: {len(sending_addrs):,}')\n",
    "print(f'Unique receiving addresses: {len(receiving_addrs):,}')"
   ]
  },
  {
   "cell_type": "code",
   "execution_count": 9,
   "id": "e39feb50-4b60-488b-9761-f811e0cffec8",
   "metadata": {},
   "outputs": [
    {
     "name": "stdout",
     "output_type": "stream",
     "text": [
      "--- Coinbase Outputs (in KAS)\n",
      "Total: 27,734,234.75331338\n",
      "Mean: 146.9005421370865\n",
      "Median: 146.83238395\n",
      "Min: 146.83238395\n",
      "Max: 587.3296358\n"
     ]
    }
   ],
   "source": [
    "list_stats('--- Coinbase Outputs (in KAS)', coinbase_outputs)"
   ]
  },
  {
   "cell_type": "code",
   "execution_count": 10,
   "id": "07c88941-6104-4d17-bdbb-9af07a0f0e1a",
   "metadata": {},
   "outputs": [
    {
     "name": "stdout",
     "output_type": "stream",
     "text": [
      "--- Spent Outputs (in KAS)\n",
      "Total: 3,196,990,675.2728896\n",
      "Mean: 7,164.445858128968\n",
      "Median: 146.83238395\n",
      "Min: 6e-06\n",
      "Max: 43,949,603.79212584\n"
     ]
    }
   ],
   "source": [
    "list_stats('--- Spent Outputs (in KAS)', outputs_spent)"
   ]
  },
  {
   "cell_type": "code",
   "execution_count": 11,
   "id": "d0c40a00-70c0-4628-96f1-3cfe5f78e78f",
   "metadata": {},
   "outputs": [
    {
     "name": "stdout",
     "output_type": "stream",
     "text": [
      "--- Created Outputs (in KAS)\n",
      "Total: 3,196,990,581.697504\n",
      "Mean: 13,187.544938424273\n",
      "Median: 87.25228395\n",
      "Min: 7.3e-06\n",
      "Max: 43,949,603.79212584\n"
     ]
    }
   ],
   "source": [
    "list_stats('--- Created Outputs (in KAS)', outputs_created)"
   ]
  },
  {
   "cell_type": "code",
   "execution_count": 12,
   "id": "bd9b259b-b147-4177-b9cc-62b8a8357e3b",
   "metadata": {},
   "outputs": [
    {
     "name": "stdout",
     "output_type": "stream",
     "text": [
      "--- Fees (in KAS)\n",
      "Total: 93.57538553\n",
      "Mean: 0.0007407921715828306\n",
      "Median: 0.0003\n",
      "Min: 1.635e-05\n",
      "Max: 5.00005522\n"
     ]
    }
   ],
   "source": [
    "list_stats('--- Fees (in KAS)', fees)"
   ]
  },
  {
   "cell_type": "code",
   "execution_count": 13,
   "id": "3d25a175-1989-4d4c-8f15-4f57edf53100",
   "metadata": {},
   "outputs": [
    {
     "name": "stdout",
     "output_type": "stream",
     "text": [
      "--- Blocks per DAA\n",
      "Mean: 1.6262581039544715\n",
      "Median: 1.0\n",
      "Min: 1.0\n",
      "Max: 12.0\n"
     ]
    }
   ],
   "source": [
    "bpd = list(blocks_per_daa.values())\n",
    "bpd.sort()\n",
    "list_stats('--- Blocks per DAA', bpd, ptotal=False, to_kas=False)"
   ]
  },
  {
   "cell_type": "code",
   "execution_count": 14,
   "id": "fc716e4d-efd3-4797-a80d-4da529c9bddf",
   "metadata": {},
   "outputs": [
    {
     "name": "stdout",
     "output_type": "stream",
     "text": [
      "--- Block intervals (in milliseconds)\n",
      "Mean: 998.8845111285233\n",
      "Median: 727.0\n",
      "Min: 0.0\n",
      "Max: 13,876.0\n"
     ]
    }
   ],
   "source": [
    "block_timestamps.sort()\n",
    "block_timestamp_diffs = [block_timestamps[i+1] - block_timestamps[i] for i in range(len(block_timestamps) - 1)]\n",
    "list_stats('--- Block intervals (in milliseconds)', block_timestamp_diffs, ptotal=False, to_kas=False)"
   ]
  },
  {
   "cell_type": "code",
   "execution_count": 15,
   "id": "f0d399fd-a303-4c00-a677-c84cffed493f",
   "metadata": {},
   "outputs": [
    {
     "name": "stdout",
     "output_type": "stream",
     "text": [
      "--- Chainblock intervals (in milliseconds)\n",
      "Mean: 1,879.046181579157\n",
      "Median: 1,534.0\n",
      "Min: 8.0\n",
      "Max: 18,527.0\n"
     ]
    }
   ],
   "source": [
    "chainblock_timestamps.sort()\n",
    "chainblock_timestamp_diffs = [chainblock_timestamps[i+1] - chainblock_timestamps[i] for i in range(len(chainblock_timestamps) - 1)]\n",
    "list_stats('--- Chainblock intervals (in milliseconds)', chainblock_timestamp_diffs, ptotal=False, to_kas=False)"
   ]
  },
  {
   "cell_type": "code",
   "execution_count": null,
   "id": "9aebe2dd-4abc-4ae5-8232-23f76bcb964a",
   "metadata": {},
   "outputs": [],
   "source": []
  },
  {
   "cell_type": "code",
   "execution_count": null,
   "id": "79b274f3-83d7-46d4-9471-ddb6fab88c08",
   "metadata": {},
   "outputs": [],
   "source": []
  },
  {
   "cell_type": "code",
   "execution_count": null,
   "id": "3a447346-da50-4125-8932-bbe32b169008",
   "metadata": {},
   "outputs": [],
   "source": []
  }
 ],
 "metadata": {
  "kernelspec": {
   "display_name": "Python 3 (ipykernel)",
   "language": "python",
   "name": "python3"
  },
  "language_info": {
   "codemirror_mode": {
    "name": "ipython",
    "version": 3
   },
   "file_extension": ".py",
   "mimetype": "text/x-python",
   "name": "python",
   "nbconvert_exporter": "python",
   "pygments_lexer": "ipython3",
   "version": "3.12.1"
  }
 },
 "nbformat": 4,
 "nbformat_minor": 5
}

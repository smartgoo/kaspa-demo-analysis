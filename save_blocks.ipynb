{
 "cells": [
  {
   "cell_type": "markdown",
   "id": "ae3d2071-8819-4a94-be62-1dc22e56a1ad",
   "metadata": {},
   "source": [
    "## Overview\n",
    "Saves blocks to local `blocks.json` files:\n",
    "1. Loads blocks using getBlocks gRPC requests from pruning point to selected tip.\n",
    "2. Gets virtual selected parent chain via gRPC. Updates chainblock and tx acceptance status.\n",
    "3. Saves to json file"
   ]
  },
  {
   "cell_type": "code",
   "execution_count": 1,
   "id": "841744b3-51c6-4d08-afef-53973d03185d",
   "metadata": {},
   "outputs": [],
   "source": [
    "from collections import defaultdict, OrderedDict\n",
    "from datetime import datetime\n",
    "import json\n",
    "\n",
    "from IPython.display import clear_output\n",
    "from kaspad.KaspadClient import KaspadClient"
   ]
  },
  {
   "cell_type": "markdown",
   "id": "b1b4a423-7c08-4892-93fa-dc40501fa6d4",
   "metadata": {},
   "source": [
    "## Helpers"
   ]
  },
  {
   "cell_type": "code",
   "execution_count": 2,
   "id": "bd936ddf-ad59-44ce-9acf-64e0360e3348",
   "metadata": {},
   "outputs": [],
   "source": [
    "async def get_blocks(rpc_client, low_hash):\n",
    "    r = await rpc_client.request(\n",
    "        \"getBlocksRequest\",\n",
    "        params={\n",
    "            \"lowHash\": low_hash,\n",
    "            \"includeTransactions\": True,\n",
    "            \"includeBlocks\": True\n",
    "        },\n",
    "    )\n",
    "    return r['getBlocksResponse']"
   ]
  },
  {
   "cell_type": "code",
   "execution_count": 3,
   "id": "b81af281-511c-4ee8-87b9-320931594080",
   "metadata": {},
   "outputs": [],
   "source": [
    "async def get_vspc(rpc_client, low_hash):\n",
    "    r = await rpc_client.request(\n",
    "        'getVirtualSelectedParentChainFromBlockRequest',\n",
    "        params={\n",
    "            'startHash': low_hash,\n",
    "            'includeAcceptedTransactionIds': True,\n",
    "        },\n",
    "        timeout=60 * 60 * 1 # seconds * minutes * hours\n",
    "    )\n",
    "    return r['getVirtualSelectedParentChainFromBlockResponse']"
   ]
  },
  {
   "cell_type": "code",
   "execution_count": 4,
   "id": "f233d927-da9a-44c7-9b3b-3d0c37b62a0b",
   "metadata": {},
   "outputs": [],
   "source": [
    "async def get_dag_info(rpc_client):\n",
    "    r = await rpc_client.request('getBlockDagInfoRequest')\n",
    "    return r['getBlockDagInfoResponse']"
   ]
  },
  {
   "cell_type": "code",
   "execution_count": 5,
   "id": "68502b42-11b2-4b23-bff5-c053f5b1fb57",
   "metadata": {},
   "outputs": [],
   "source": [
    "async def get_selected_tip(rpc_client):\n",
    "    r = await rpc_client.request('getSelectedTipHashRequest')\n",
    "    return r['getSelectedTipHashResponse']"
   ]
  },
  {
   "cell_type": "code",
   "execution_count": null,
   "id": "db63a65b-ee6c-4ba2-b137-f6e578f495af",
   "metadata": {},
   "outputs": [],
   "source": []
  },
  {
   "cell_type": "markdown",
   "id": "5ad86087-841f-4c03-b891-532c35ebab7b",
   "metadata": {},
   "source": [
    "## Main"
   ]
  },
  {
   "cell_type": "code",
   "execution_count": 6,
   "id": "d5529777-f06b-4871-ab3c-f14b20eb2f76",
   "metadata": {},
   "outputs": [],
   "source": [
    "rpc_client = KaspadClient('localhost', 16120)"
   ]
  },
  {
   "cell_type": "code",
   "execution_count": 7,
   "id": "1121f3fa-c69a-48b9-beee-65d37cf24d9c",
   "metadata": {},
   "outputs": [],
   "source": [
    "# Get pruning point hash\n",
    "dag_info = await get_dag_info(rpc_client)\n",
    "low_hash = dag_info['pruningPointHash']"
   ]
  },
  {
   "cell_type": "code",
   "execution_count": 8,
   "id": "7546311c-1b52-486c-9435-497361a7f8b1",
   "metadata": {},
   "outputs": [
    {
     "name": "stdout",
     "output_type": "stream",
     "text": [
      "04ce38393e6c858589d998f320c86a9a81e04c5398a667af76a87a47afd31d84 2023-12-14 18:50:21.686000\n"
     ]
    }
   ],
   "source": [
    "# Load blocks from pruning point hash to tip\n",
    "block_cache = OrderedDict()\n",
    "tx_to_blocks_index = defaultdict(list)\n",
    "\n",
    "while True:\n",
    "    blocks = await get_blocks(rpc_client, low_hash)\n",
    "\n",
    "    for idx, block in enumerate(blocks.get('blocks', [])):\n",
    "        hash = block['verboseData']['hash']\n",
    "\n",
    "        # Keep 1 level of parents for memory/storage purposes\n",
    "        block['header']['parents'] = block['header']['parents'][0]['parentHashes']\n",
    "\n",
    "        # Add block to cache\n",
    "        block_cache[hash] = block\n",
    "\n",
    "        # Store tx to blocks mapping\n",
    "        for tx in block['transactions']:\n",
    "            tx_id = tx['verboseData']['transactionId']\n",
    "\n",
    "            tx_to_blocks_index[tx_id].append(hash)\n",
    "\n",
    "        # Break once we get to DAG tip\n",
    "        selected_tip = await get_selected_tip(rpc_client)\n",
    "        if selected_tip['selectedTipHash'] == hash:\n",
    "            break\n",
    "        \n",
    "        low_hash = hash\n",
    "\n",
    "    last_cache_block = next(reversed(block_cache))\n",
    "\n",
    "    # Break once we get to DAG tip\n",
    "    selected_tip = await get_selected_tip(rpc_client)\n",
    "    if selected_tip['selectedTipHash'] == last_cache_block:\n",
    "        break\n",
    "\n",
    "    # keep an eye on progress\n",
    "    clear_output(wait=True)\n",
    "    print(last_cache_block, datetime.fromtimestamp( int(block_cache[last_cache_block]['header']['timestamp']) / 1000 ))"
   ]
  },
  {
   "cell_type": "code",
   "execution_count": 9,
   "id": "64c69db7-d8d6-49d8-95ab-a404a93b8f90",
   "metadata": {},
   "outputs": [],
   "source": [
    "# Apply virtual selected parent chain to block_cache\n",
    "\n",
    "vspc_low_hash = next(iter(block_cache))\n",
    "vspc = await get_vspc(rpc_client, vspc_low_hash)\n",
    "\n",
    "# Block hash to stop VSPC iteration at to ensure accuracy\n",
    "vspc_stop_hash = None\n",
    "for k, v in reversed(block_cache.items()):\n",
    "    if v['verboseData']['isChainBlock']:\n",
    "        vspc_stop_hash = k\n",
    "        break\n",
    "\n",
    "# set isChainBlock to False for removed blocks\n",
    "for hash in vspc.get(\"removedChainBlockHashes\", []):\n",
    "    block_cache[hash]['verboseData']['isChainBlock'] = False\n",
    "\n",
    "# set isChainBlock to True for added blocks\n",
    "for hash in vspc.get(\"addedChainBlockHashes\", []):\n",
    "    if hash == vspc_stop_hash:\n",
    "        break\n",
    "    \n",
    "    block_cache[hash]['verboseData']['isChainBlock'] = True\n",
    "\n",
    "# set accepted to True to for accepted transactions\n",
    "tx_in_blocks_none = 0\n",
    "for d in vspc.get('acceptedTransactionIds', []):\n",
    "    if d['acceptingBlockHash'] == vspc_stop_hash:\n",
    "        break\n",
    "        \n",
    "    for accepted_tx_id in d['acceptedTransactionIds']:\n",
    "        tx_in_blocks = tx_to_blocks_index.get(accepted_tx_id)\n",
    "\n",
    "        if tx_in_blocks is None:\n",
    "            # TODO ???\n",
    "            tx_in_blocks_none += 1\n",
    "            continue\n",
    "\n",
    "        for block_hash in tx_in_blocks:\n",
    "            for i, tx in enumerate(block_cache[block_hash]['transactions']):\n",
    "                if tx['verboseData']['transactionId'] == accepted_tx_id:\n",
    "                    block_cache[block_hash]['transactions'][i]['accepted'] = True\n",
    "                    block_cache[block_hash]['transactions'][i]['acceptingBlockHash'] = d['acceptingBlockHash']"
   ]
  },
  {
   "cell_type": "code",
   "execution_count": 12,
   "id": "2985219a-402d-4a40-acc3-33ddd17722cd",
   "metadata": {},
   "outputs": [],
   "source": [
    "# Dump to JSON\n",
    "with open('block.json', 'w') as f:\n",
    "    json.dump({'blocks': block_cache}, f, indent=4)"
   ]
  },
  {
   "cell_type": "code",
   "execution_count": null,
   "id": "bca443b9-1aaf-4569-bb50-d48f37bc3de1",
   "metadata": {},
   "outputs": [],
   "source": []
  },
  {
   "cell_type": "code",
   "execution_count": null,
   "id": "21d137f7-a98c-463f-882b-4da63edb75ea",
   "metadata": {},
   "outputs": [],
   "source": []
  },
  {
   "cell_type": "code",
   "execution_count": null,
   "id": "0352c590-c1dc-4da8-9710-58a9bb7d2dd6",
   "metadata": {},
   "outputs": [],
   "source": []
  }
 ],
 "metadata": {
  "kernelspec": {
   "display_name": "Python 3 (ipykernel)",
   "language": "python",
   "name": "python3"
  },
  "language_info": {
   "codemirror_mode": {
    "name": "ipython",
    "version": 3
   },
   "file_extension": ".py",
   "mimetype": "text/x-python",
   "name": "python",
   "nbconvert_exporter": "python",
   "pygments_lexer": "ipython3",
   "version": "3.11.4"
  }
 },
 "nbformat": 4,
 "nbformat_minor": 5
}

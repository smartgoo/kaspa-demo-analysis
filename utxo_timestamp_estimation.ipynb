{
 "cells": [
  {
   "cell_type": "code",
   "execution_count": 1,
   "id": "cc87273b-9fae-449a-891d-a2e742b904c0",
   "metadata": {},
   "outputs": [],
   "source": [
    "import csv\n",
    "from dataclasses import dataclass\n",
    "from datetime import datetime\n",
    "from typing import Optional\n",
    "\n",
    "from IPython.display import clear_output\n",
    "import pytz"
   ]
  },
  {
   "cell_type": "code",
   "execution_count": 14,
   "id": "d9a1b04e-bac8-4f24-8725-ce68b43911bd",
   "metadata": {},
   "outputs": [
    {
     "name": "stdout",
     "output_type": "stream",
     "text": [
      "low snapshot daa: 0 2024-01-24 08:59:58.71+00\n",
      "high snapshot daa: 69694070 2024-01-24 08:59:58.71+00\n"
     ]
    }
   ],
   "source": [
    "# Open daa_snapshot.csv\n",
    "# Contains daily daa/timestamps from genesis to Jan 24th 2024\n",
    "# Used for estimating date via interpolation\n",
    "\n",
    "@dataclass\n",
    "class DAATimestamp:\n",
    "    daa_score: int\n",
    "    timestamp_ms: int\n",
    "    datetime: datetime\n",
    "\n",
    "daa_timestamps = []\n",
    "with open('data/daa_timestamps.csv', 'r') as f:\n",
    "    reader = csv.reader(f)\n",
    "    next(reader) # skip header row\n",
    "\n",
    "    for row in reader:\n",
    "        daa_timestamps.append(DAATimestamp(\n",
    "            daa_score=int(row[0]), \n",
    "            timestamp_ms=int(row[1]), \n",
    "            datetime=row[2]\n",
    "        ))\n",
    "\n",
    "print(f'low snapshot daa: {daa_timestamps[0].daa_score} {daa_timestamps[-1].datetime}')\n",
    "print(f'high snapshot daa: {daa_timestamps[-1].daa_score} {daa_timestamps[-1].datetime}')"
   ]
  },
  {
   "cell_type": "code",
   "execution_count": null,
   "id": "716663a9-a24e-4da6-8ff8-37390cc7333b",
   "metadata": {},
   "outputs": [],
   "source": []
  },
  {
   "cell_type": "code",
   "execution_count": 3,
   "id": "e8e6477b-ab82-4b8f-99e5-06199943d758",
   "metadata": {},
   "outputs": [],
   "source": [
    "def _interpolate_datetime(index, daa_score):\n",
    "    current, next = daa_timestamps[index], daa_timestamps[index+1]\n",
    "    score_difference = next.daa_score - current.daa_score\n",
    "    \n",
    "    if score_difference == 0:\n",
    "        return None\n",
    "\n",
    "    frac = (daa_score - current.daa_score) / score_difference\n",
    "    interpolated_milliseconds = int(current.timestamp_ms + \n",
    "                                    (next.timestamp_ms - current.timestamp_ms) * frac)\n",
    "\n",
    "    return pytz.utc.localize(datetime.fromtimestamp(interpolated_milliseconds / 1000))"
   ]
  },
  {
   "cell_type": "code",
   "execution_count": 4,
   "id": "d0c3d1ad-5853-449c-853d-979df01a991e",
   "metadata": {},
   "outputs": [],
   "source": [
    "def _binary_search_daa(daa_score):\n",
    "    low, high = 0, len(daa_timestamps) - 1\n",
    "    \n",
    "    while low <= high:\n",
    "        mid = (low + high) // 2\n",
    "        mid_daa_score = daa_timestamps[mid].daa_score\n",
    "\n",
    "        if mid_daa_score == daa_score:\n",
    "            return mid\n",
    "\n",
    "        if mid < len(daa_timestamps) - 1 and mid_daa_score <= daa_score < daa_timestamps[mid+1].daa_score:\n",
    "            return mid\n",
    "\n",
    "        if daa_score < mid_daa_score:\n",
    "            high = mid - 1\n",
    "        else:\n",
    "            low = mid + 1\n",
    "\n",
    "    return None"
   ]
  },
  {
   "cell_type": "code",
   "execution_count": 5,
   "id": "8a9d9aee-0a38-486e-a596-6352b19a8d6b",
   "metadata": {},
   "outputs": [],
   "source": [
    "def estimate_datetime(daa_score):\n",
    "    # TODO assuming your UTXO export contains DAAs higher than \n",
    "    # the most recent DAA in daa_timestamps.csv\n",
    "    # Either get highest DAA from node or extrapolate\n",
    "    \n",
    "    # If daa_score = most recent daa_timestamp record, just return that datetime\n",
    "    if daa_score == daa_timestamps[-1].daa_score:\n",
    "        return daa_timestamps[-1].datetime\n",
    "\n",
    "    index = _binary_search_daa(daa_score)\n",
    "    if index is not None:\n",
    "        return _interpolate_datetime(index, daa_score)\n",
    "\n",
    "    return None"
   ]
  },
  {
   "cell_type": "code",
   "execution_count": null,
   "id": "60ca7165-7bb6-41e7-a2a1-7dd878624517",
   "metadata": {},
   "outputs": [],
   "source": []
  },
  {
   "cell_type": "code",
   "execution_count": 6,
   "id": "bf74eddb-478c-48bb-93f4-353ac5bbffbb",
   "metadata": {},
   "outputs": [
    {
     "name": "stdout",
     "output_type": "stream",
     "text": [
      "processed 59,000,000 utxos\n"
     ]
    }
   ],
   "source": [
    "# Open, utxo_set.csv, iterate rows (utxos) and estimate date for each\n",
    "# Csv fields are [address, daa_score, amount, is_coinbase]\n",
    "\n",
    "# utxo_set.csv not included due to file size\n",
    "\n",
    "# (lazily) storing results in memory\n",
    "\n",
    "utxo_set = []\n",
    "with open('data/utxo_set.csv', 'r') as f:\n",
    "    reader = csv.reader(f)\n",
    "    next(reader)\n",
    "\n",
    "    for i, row in enumerate(reader):\n",
    "        utxo_daa = int(row[1])\n",
    "        \n",
    "        est_datetime = estimate_datetime(utxo_daa)\n",
    "        \n",
    "        utxo_set.append({\n",
    "            # 'address': row[0] # removed to save memory\n",
    "            'daa_score': int(row[1]),\n",
    "            'amount': int(row[2]),\n",
    "            # 'is_coinbase': row[3] # removed to save memory\n",
    "            'estimated_datetime': est_datetime\n",
    "        })\n",
    "\n",
    "        if i % 1_000_000 == 0:\n",
    "            clear_output()\n",
    "            print(f'processed {i:2,} utxos')"
   ]
  },
  {
   "cell_type": "code",
   "execution_count": 7,
   "id": "07b3b29f-ea69-4715-a419-a14d6173010c",
   "metadata": {},
   "outputs": [
    {
     "name": "stdout",
     "output_type": "stream",
     "text": [
      "69694073\n",
      "63098762\n",
      "69694077\n",
      "69694077\n",
      "69694071\n"
     ]
    }
   ],
   "source": [
    "# failed to estimate timestamp for these records\n",
    "# likely the result of utxo_daa being higher than the highest daa (daa_timestamps[-1].daa_score) in daa_timestamps.csv')\n",
    "for utxo in utxo_set:\n",
    "    if utxo['estimated_datetime'] is None:\n",
    "        print(utxo['daa_score'])"
   ]
  },
  {
   "cell_type": "code",
   "execution_count": 13,
   "id": "8b4cee5a-55d7-4292-86a6-e3e499d03535",
   "metadata": {},
   "outputs": [
    {
     "name": "stdout",
     "output_type": "stream",
     "text": [
      "1490719 2021-11-27 20:20:54.490000+00:00\n",
      "59143774 2023-09-24 18:39:11.164000+00:00\n",
      "59408899 2023-09-27 20:16:45.357000+00:00\n",
      "59192064 2023-09-25 08:04:10.362000+00:00\n",
      "51494933 2023-06-28 07:19:24.738000+00:00\n",
      "59183506 2023-09-25 05:41:30.732000+00:00\n",
      "59328603 2023-09-26 21:59:09.139000+00:00\n",
      "59146898 2023-09-24 19:31:15.759000+00:00\n",
      "59180188 2023-09-25 04:46:12.100000+00:00\n",
      "68834888 2024-01-14 15:42:02.981000+00:00\n",
      "59166138 2023-09-25 00:51:59.424000+00:00\n",
      "59226428 2023-09-25 17:37:04.035000+00:00\n",
      "59173764 2023-09-25 02:59:06.876000+00:00\n",
      "31040333 2022-11-03 16:00:53.274000+00:00\n",
      "59174728 2023-09-25 03:15:11.060000+00:00\n",
      "59210338 2023-09-25 13:09:05.949000+00:00\n",
      "59196980 2023-09-25 09:26:18.313000+00:00\n",
      "57676565 2023-09-07 19:19:03.153000+00:00\n",
      "59137465 2023-09-24 16:54:00.963000+00:00\n",
      "59146013 2023-09-24 19:16:30.591000+00:00\n",
      "59274110 2023-09-26 06:51:10.728000+00:00\n",
      "57346665 2023-09-03 23:41:26.719000+00:00\n",
      "59439416 2023-09-28 04:45:56.811000+00:00\n",
      "59195543 2023-09-25 09:02:10.938000+00:00\n",
      "59191410 2023-09-25 07:53:16.237000+00:00\n",
      "59146645 2023-09-24 19:27:02.711000+00:00\n",
      "33806001 2022-12-05 15:48:35.321000+00:00\n",
      "59164482 2023-09-25 00:24:23.108000+00:00\n",
      "59182851 2023-09-25 05:30:35.607000+00:00\n",
      "59143692 2023-09-24 18:37:49.149000+00:00\n",
      "59142264 2023-09-24 18:14:00.877000+00:00\n",
      "59179409 2023-09-25 04:33:12.951000+00:00\n",
      "59219288 2023-09-25 15:38:09.322000+00:00\n",
      "59144765 2023-09-24 18:55:42.353000+00:00\n",
      "59194011 2023-09-25 08:36:37.732000+00:00\n",
      "69333493 2024-01-20 07:01:12.533000+00:00\n",
      "59189541 2023-09-25 07:22:06.881000+00:00\n",
      "59182150 2023-09-25 05:18:54.473000+00:00\n",
      "59180539 2023-09-25 04:52:03.167000+00:00\n",
      "59194945 2023-09-25 08:52:11.910000+00:00\n",
      "59178290 2023-09-25 04:14:33.738000+00:00\n",
      "59147312 2023-09-24 19:38:09.838000+00:00\n",
      "59165043 2023-09-25 00:33:44.215000+00:00\n",
      "59216996 2023-09-25 14:59:59.019000+00:00\n",
      "27689275 2022-09-25 21:23:43.022000+00:00\n",
      "59277207 2023-09-26 07:42:45.435000+00:00\n",
      "59185698 2023-09-25 06:18:03.149000+00:00\n",
      "59435201 2023-09-28 03:35:37.053000+00:00\n",
      "59206634 2023-09-25 12:07:24.691000+00:00\n",
      "59183308 2023-09-25 05:38:12.694000+00:00\n",
      "59165095 2023-09-25 00:34:36.225000+00:00\n",
      "59148844 2023-09-24 20:03:42.130000+00:00\n",
      "59363764 2023-09-27 07:44:37.234000+00:00\n",
      "59174978 2023-09-25 03:19:21.107000+00:00\n",
      "59195135 2023-09-25 08:55:21.947000+00:00\n",
      "59344840 2023-09-27 02:29:30.944000+00:00\n",
      "59146292 2023-09-24 19:21:09.644000+00:00\n",
      "59186166 2023-09-25 06:25:51.238000+00:00\n",
      "55322624 2023-08-11 13:53:48.382000+00:00\n",
      "59371347 2023-09-27 09:50:22.675000+00:00\n"
     ]
    }
   ],
   "source": [
    "for utxo in utxo_set[::1_000_000]:\n",
    "    print(utxo['daa_score'], utxo['estimated_datetime'])"
   ]
  },
  {
   "cell_type": "code",
   "execution_count": null,
   "id": "8ef67b40-a9c2-4392-ae30-e7583266c4f8",
   "metadata": {},
   "outputs": [],
   "source": []
  }
 ],
 "metadata": {
  "kernelspec": {
   "display_name": "Python 3 (ipykernel)",
   "language": "python",
   "name": "python3"
  },
  "language_info": {
   "codemirror_mode": {
    "name": "ipython",
    "version": 3
   },
   "file_extension": ".py",
   "mimetype": "text/x-python",
   "name": "python",
   "nbconvert_exporter": "python",
   "pygments_lexer": "ipython3",
   "version": "3.12.1"
  }
 },
 "nbformat": 4,
 "nbformat_minor": 5
}

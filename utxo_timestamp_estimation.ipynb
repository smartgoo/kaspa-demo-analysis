{
 "cells": [
  {
   "cell_type": "code",
   "execution_count": 1,
   "id": "cc87273b-9fae-449a-891d-a2e742b904c0",
   "metadata": {},
   "outputs": [],
   "source": [
    "import csv\n",
    "from dataclasses import dataclass\n",
    "from datetime import datetime\n",
    "from typing import Optional\n",
    "\n",
    "from IPython.display import clear_output\n",
    "import pytz"
   ]
  },
  {
   "cell_type": "code",
   "execution_count": 2,
   "id": "d9a1b04e-bac8-4f24-8725-ce68b43911bd",
   "metadata": {},
   "outputs": [
    {
     "name": "stdout",
     "output_type": "stream",
     "text": [
      "low snapshot daa: 0 2024-01-24 08:59:58.71+00\n",
      "high snapshot daa: 69694070 2024-01-24 08:59:58.71+00\n"
     ]
    }
   ],
   "source": [
    "# Open daa_snapshot.csv\n",
    "# Contains daily daa/timestamps from genesis to Jan 24th 2024\n",
    "# Used for estimating date via interpolation\n",
    "\n",
    "@dataclass\n",
    "class DAATimestamp:\n",
    "    daa_score: int\n",
    "    timestamp_ms: int\n",
    "    datetime: datetime\n",
    "\n",
    "daa_timestamps = []\n",
    "with open('data/daa_timestamps.csv', 'r') as f:\n",
    "    reader = csv.reader(f)\n",
    "    next(reader) # skip header row\n",
    "\n",
    "    for row in reader:\n",
    "        daa_timestamps.append(DAATimestamp(\n",
    "            daa_score=int(row[0]), \n",
    "            timestamp_ms=int(row[1]), \n",
    "            datetime=row[2]\n",
    "        ))\n",
    "\n",
    "print(f'low snapshot daa: {daa_timestamps[0].daa_score} {daa_timestamps[-1].datetime}')\n",
    "print(f'high snapshot daa: {daa_timestamps[-1].daa_score} {daa_timestamps[-1].datetime}')"
   ]
  },
  {
   "cell_type": "code",
   "execution_count": null,
   "id": "716663a9-a24e-4da6-8ff8-37390cc7333b",
   "metadata": {},
   "outputs": [],
   "source": []
  },
  {
   "cell_type": "code",
   "execution_count": 3,
   "id": "e8e6477b-ab82-4b8f-99e5-06199943d758",
   "metadata": {},
   "outputs": [],
   "source": [
    "def _interpolate_datetime(index, daa_score):\n",
    "    current, next = daa_timestamps[index], daa_timestamps[index+1]\n",
    "    score_difference = next.daa_score - current.daa_score\n",
    "    \n",
    "    if score_difference == 0:\n",
    "        return None\n",
    "\n",
    "    frac = (daa_score - current.daa_score) / score_difference\n",
    "    interpolated_milliseconds = int(current.timestamp_ms + \n",
    "                                    (next.timestamp_ms - current.timestamp_ms) * frac)\n",
    "\n",
    "    return pytz.utc.localize(datetime.fromtimestamp(interpolated_milliseconds / 1000))"
   ]
  },
  {
   "cell_type": "code",
   "execution_count": 4,
   "id": "d0c3d1ad-5853-449c-853d-979df01a991e",
   "metadata": {},
   "outputs": [],
   "source": [
    "def _binary_search_daa(daa_score):\n",
    "    low, high = 0, len(daa_timestamps) - 1\n",
    "    \n",
    "    while low <= high:\n",
    "        mid = (low + high) // 2\n",
    "        mid_daa_score = daa_timestamps[mid].daa_score\n",
    "\n",
    "        if mid_daa_score == daa_score:\n",
    "            return mid\n",
    "\n",
    "        if mid < len(daa_timestamps) - 1 and mid_daa_score <= daa_score < daa_timestamps[mid+1].daa_score:\n",
    "            return mid\n",
    "\n",
    "        if daa_score < mid_daa_score:\n",
    "            high = mid - 1\n",
    "        else:\n",
    "            low = mid + 1\n",
    "\n",
    "    return None"
   ]
  },
  {
   "cell_type": "code",
   "execution_count": 5,
   "id": "8a9d9aee-0a38-486e-a596-6352b19a8d6b",
   "metadata": {},
   "outputs": [],
   "source": [
    "def estimate_datetime(daa_score):\n",
    "    # TODO assuming your UTXO export contains DAAs higher than \n",
    "    # the most recent DAA in daa_timestamps.csv\n",
    "    # Either get highest DAA from node or extrapolate\n",
    "    \n",
    "    # If daa_score = most recent daa_timestamp record, just return that datetime\n",
    "    if daa_score == daa_timestamps[-1].daa_score:\n",
    "        return daa_timestamps[-1].datetime\n",
    "\n",
    "    index = _binary_search_daa(daa_score)\n",
    "    if index is not None:\n",
    "        return _interpolate_datetime(index, daa_score)\n",
    "\n",
    "    return None"
   ]
  },
  {
   "cell_type": "code",
   "execution_count": null,
   "id": "60ca7165-7bb6-41e7-a2a1-7dd878624517",
   "metadata": {},
   "outputs": [],
   "source": []
  },
  {
   "cell_type": "code",
   "execution_count": 6,
   "id": "bf74eddb-478c-48bb-93f4-353ac5bbffbb",
   "metadata": {},
   "outputs": [
    {
     "name": "stdout",
     "output_type": "stream",
     "text": [
      "processed 58,000,000 utxos\n"
     ]
    }
   ],
   "source": [
    "# Open, utxo_set.csv, iterate rows (utxos) and estimate date for each\n",
    "# Csv fields are [address, daa_score, amount, is_coinbase]\n",
    "\n",
    "# utxo_set.csv not included due to file size\n",
    "\n",
    "# (lazily) storing results in memory\n",
    "\n",
    "utxo_set = []\n",
    "with open('data/utxo_set.csv', 'r') as f:\n",
    "    reader = csv.reader(f)\n",
    "    next(reader)\n",
    "\n",
    "    for i, row in enumerate(reader):\n",
    "        # Skip dust UTXOs\n",
    "        if int(row[2]) <= 1000:\n",
    "            continue\n",
    "        \n",
    "        utxo_daa = int(row[1])\n",
    "        \n",
    "        est_datetime = estimate_datetime(utxo_daa)\n",
    "        \n",
    "        utxo_set.append({\n",
    "            # 'address': row[0] # removed to save memory\n",
    "            'daa_score': int(row[1]),\n",
    "            'amount': int(row[2]),\n",
    "            # 'is_coinbase': row[3] # removed to save memory\n",
    "            'estimated_datetime': est_datetime\n",
    "        })\n",
    "\n",
    "        if i % 1_000_000 == 0:\n",
    "            clear_output()\n",
    "            print(f'processed {i:2,} utxos')"
   ]
  },
  {
   "cell_type": "code",
   "execution_count": 7,
   "id": "07b3b29f-ea69-4715-a419-a14d6173010c",
   "metadata": {},
   "outputs": [
    {
     "name": "stdout",
     "output_type": "stream",
     "text": [
      "69694073\n",
      "63098762\n",
      "69694077\n",
      "69694077\n",
      "69694071\n"
     ]
    }
   ],
   "source": [
    "# failed to estimate timestamp for these records\n",
    "# likely the result of utxo_daa being higher than the highest daa (daa_timestamps[-1].daa_score) in daa_timestamps.csv')\n",
    "for utxo in utxo_set:\n",
    "    if utxo['estimated_datetime'] is None:\n",
    "        print(utxo['daa_score'])"
   ]
  },
  {
   "cell_type": "code",
   "execution_count": 9,
   "id": "8b4cee5a-55d7-4292-86a6-e3e499d03535",
   "metadata": {},
   "outputs": [
    {
     "name": "stdout",
     "output_type": "stream",
     "text": [
      "1490719 2021-11-27 20:20:54.490000+00:00\n",
      "65640007 2023-12-08 22:03:20.825000+00:00\n",
      "60059149 2023-10-05 08:42:16.325000+00:00\n",
      "28382065 2022-10-03 21:48:03.729000+00:00\n",
      "60456785 2023-10-09 23:04:29.184000+00:00\n",
      "49172160 2023-06-01 10:17:11.675000+00:00\n",
      "66009202 2023-12-13 04:32:05.844000+00:00\n",
      "36001725 2022-12-31 01:26:09.444000+00:00\n",
      "2328794 2021-12-07 09:56:34.260000+00:00\n",
      "29313763 2022-10-14 16:32:34.578000+00:00\n",
      "42367288 2023-03-14 16:46:19.505000+00:00\n",
      "34661248 2022-12-15 13:16:37.866000+00:00\n",
      "38711021 2023-01-31 09:35:36.124000+00:00\n",
      "69175191 2024-01-18 11:59:29.344000+00:00\n",
      "9302693 2022-02-25 17:04:57.972000+00:00\n",
      "44152257 2023-04-04 08:13:59.833000+00:00\n",
      "11382103 2022-03-21 15:05:59.725000+00:00\n",
      "399001 2021-11-12 04:46:25.006000+00:00\n",
      "27663675 2022-09-25 14:16:55.564000+00:00\n",
      "66038638 2023-12-13 12:42:19.192000+00:00\n",
      "67795237 2024-01-02 20:35:29.725000+00:00\n",
      "55288051 2023-08-11 04:18:23.597000+00:00\n",
      "61769907 2023-10-25 03:42:21.055000+00:00\n",
      "65977370 2023-12-12 19:42:22.020000+00:00\n",
      "40093070 2023-02-16 09:20:22.862000+00:00\n",
      "51312210 2023-06-26 04:37:58.622000+00:00\n",
      "65362188 2023-12-05 16:57:05.536000+00:00\n",
      "66376608 2023-12-17 10:41:29.867000+00:00\n",
      "38813676 2023-02-01 14:05:15.992000+00:00\n",
      "67812510 2024-01-03 01:23:07.515000+00:00\n",
      "42565944 2023-03-16 23:55:35.405000+00:00\n",
      "30059332 2022-10-23 07:36:41.754000+00:00\n",
      "40551638 2023-02-21 16:42:42.526000+00:00\n",
      "35354787 2022-12-23 13:47:53.129000+00:00\n",
      "64971597 2023-12-01 04:32:32.166000+00:00\n",
      "27433239 2022-09-22 22:16:39.426000+00:00\n",
      "43149052 2023-03-23 17:49:18.475000+00:00\n",
      "28583984 2022-10-06 05:53:05.248000+00:00\n",
      "3068361 2021-12-15 21:50:06.525000+00:00\n",
      "42249441 2023-03-13 08:02:13.893000+00:00\n",
      "63525864 2023-11-14 11:14:58.167000+00:00\n",
      "68731279 2024-01-13 11:35:42.118000+00:00\n",
      "4964777 2022-01-06 18:47:54.597000+00:00\n",
      "65104846 2023-12-02 17:31:46.530000+00:00\n",
      "65773006 2023-12-10 10:59:03.318000+00:00\n",
      "59440599 2023-09-28 05:05:41.147000+00:00\n",
      "69084651 2024-01-17 11:26:43.536000+00:00\n",
      "69419364 2024-01-21 06:22:18.660000+00:00\n",
      "27457099 2022-09-23 04:54:10.575000+00:00\n",
      "39110188 2023-02-05 00:23:14.244000+00:00\n",
      "50791687 2023-06-20 04:02:24.907000+00:00\n",
      "56932882 2023-08-30 04:48:08.555000+00:00\n",
      "32291062 2022-11-18 03:09:22.172000+00:00\n",
      "66134184 2023-12-14 15:14:36.432000+00:00\n",
      "65174112 2023-12-03 12:45:03.523000+00:00\n",
      "68568802 2024-01-11 15:36:43.553000+00:00\n"
     ]
    }
   ],
   "source": [
    "for utxo in utxo_set[::100_000]:\n",
    "    print(utxo['daa_score'], utxo['estimated_datetime'])"
   ]
  },
  {
   "cell_type": "code",
   "execution_count": null,
   "id": "8ef67b40-a9c2-4392-ae30-e7583266c4f8",
   "metadata": {},
   "outputs": [],
   "source": []
  }
 ],
 "metadata": {
  "kernelspec": {
   "display_name": "Python 3 (ipykernel)",
   "language": "python",
   "name": "python3"
  },
  "language_info": {
   "codemirror_mode": {
    "name": "ipython",
    "version": 3
   },
   "file_extension": ".py",
   "mimetype": "text/x-python",
   "name": "python",
   "nbconvert_exporter": "python",
   "pygments_lexer": "ipython3",
   "version": "3.12.1"
  }
 },
 "nbformat": 4,
 "nbformat_minor": 5
}
